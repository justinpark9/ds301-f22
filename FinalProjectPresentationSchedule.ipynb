{
 "cells": [
  {
   "cell_type": "markdown",
   "metadata": {},
   "source": [
    "**DS 301: Applied Data Modeling and Predictive Analysis**\n",
    "\n",
    "# Final Project Presentation Schedule\n",
    "\n",
    "We'll use the following code to generate a random schedule for final project presentation on 18 and 20 November."
   ]
  },
  {
   "cell_type": "code",
   "execution_count": null,
   "metadata": {},
   "outputs": [],
   "source": [
    "import json\n",
    "\n",
    "class Team:\n",
    "    def __init__(self, project, members):\n",
    "        self.project = project\n",
    "        self.members = members\n",
    "        self.num_members = len(self.members)\n",
    "        self.mins = 5 + 2*(self.num_members - 1)\n",
    "        \n",
    "    def __str__(self):\n",
    "        member_str = str(self.members[0]).strip()\n",
    "        for member in self.members[1:]:\n",
    "            member_str += \", \" + str(member).strip()\n",
    "        return \"{}, {}, {} mins\".format(member_str, self.project, self.mins)"
   ]
  },
  {
   "cell_type": "code",
   "execution_count": null,
   "metadata": {},
   "outputs": [],
   "source": [
    "import csv\n",
    "import math\n",
    "\n",
    "teams = []\n",
    "days = [5, 7, 9]\n",
    "\n",
    "with open('final_projects.csv', 'r') as file:\n",
    "    reader = csv.reader(file, delimiter=',')\n",
    "    for row in reader:\n",
    "        teams.append(Team(row[0], row[1:]))\n",
    "\n",
    "total_mins = sum(team.mins for team in teams)\n",
    "mins_per_day = int(math.ceil(float(total_mins) / len(days)))\n",
    "\n",
    "print(\"Total mins:   {}\".format(total_mins))\n",
    "print(\"Mins per day: {}\".format(mins_per_day))"
   ]
  },
  {
   "cell_type": "code",
   "execution_count": null,
   "metadata": {
    "scrolled": true
   },
   "outputs": [],
   "source": [
    "import numpy as np\n",
    "\n",
    "perm = np.random.permutation(teams)\n",
    "\n",
    "day_ind = 0\n",
    "current_mins = 0\n",
    "print(\"{} December 2022\".format(days[day_ind]))\n",
    "\n",
    "for ind, team in enumerate(perm, start=1):\n",
    "    current_mins += team.mins\n",
    "        \n",
    "    print(\"{:>6} {}\".format(ind, team))\n",
    "    \n",
    "    if current_mins > mins_per_day:\n",
    "        print(\"Total mins: {}\".format(current_mins))\n",
    "        print(\"------------------------------------------------------\")\n",
    "        day_ind += 1\n",
    "        current_mins = 0\n",
    "        print(\"{} December 2022\".format(days[day_ind]))\n",
    "        \n",
    "\n",
    "print(\"Total mins: {}\".format(current_mins))"
   ]
  },
  {
   "cell_type": "code",
   "execution_count": null,
   "metadata": {},
   "outputs": [],
   "source": []
  }
 ],
 "metadata": {
  "kernelspec": {
   "display_name": "Python 3 (ipykernel)",
   "language": "python",
   "name": "python3"
  },
  "language_info": {
   "codemirror_mode": {
    "name": "ipython",
    "version": 3
   },
   "file_extension": ".py",
   "mimetype": "text/x-python",
   "name": "python",
   "nbconvert_exporter": "python",
   "pygments_lexer": "ipython3",
   "version": "3.10.4"
  }
 },
 "nbformat": 4,
 "nbformat_minor": 4
}
