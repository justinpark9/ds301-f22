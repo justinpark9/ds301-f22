{
 "cells": [
  {
   "cell_type": "markdown",
   "metadata": {},
   "source": [
    "**DS 301: Applied Data Modeling and Predictive Analysis**\n",
    "\n",
    "# Lab 6 – Support Vector Machine\n",
    "\n",
    "Nok Wongpiromsarn, 8 August 2022\n",
    "\n",
    "**Instructions:**\n",
    "1. Construct a pandas dataframe from Iris dataset.\n",
    "2. Remove outliers. Here, we define outliers as those that are beyond 1.5 times the IQR above the upper quartile or below the lower quartile.\n",
    "3. Apply each of the following methods to deal with the missing features. Discuss the differences in the data obtained from these methods.\n",
    "   - dropna\n",
    "   - fillna\n",
    "   - SimpleImputer\n",
    "4. Use the dataframe obtained from dropna. Visualize the data to see which pairs of the 3 species (setosa, versicolor, virginica) are linearly separable.\n",
    "5. Construct features X and labels y.\n",
    "   - X contains only the petal length and petal width features.\n",
    "   - y is a binary target such that it is 1 if the instance is Virginica and is 0 otherwise.\n",
    "6. Train LinearSVC, SVC, and SGDClassifier to identify whether a given instance is Virginica. Use C = 1. Don't forget to scale your data!\n",
    "7. Pick one of the 3 classifiers and report the following performance measures.\n",
    "   1. training accuracy\n",
    "   2. cross-validation accuracy\n",
    "   3. confusion matrix\n",
    "   4. precision\n",
    "   5. recall\n",
    "   6. F1\n",
    "   7. AUC"
   ]
  },
  {
   "cell_type": "markdown",
   "metadata": {},
   "source": [
    "### 1. Construct a pandas dataframe from Iris dataset"
   ]
  },
  {
   "cell_type": "code",
   "execution_count": null,
   "metadata": {},
   "outputs": [],
   "source": [
    "import pandas as pd\n",
    "from sklearn import datasets\n",
    "\n",
    "iris = datasets.load_iris()\n",
    "df_feature = pd.DataFrame(iris['data'], columns = iris.feature_names)\n",
    "df_label = pd.DataFrame(iris['target'], columns = ['species'])\n",
    "df = pd.concat([df_feature, df_label], axis=1)\n",
    "\n",
    "df.info()"
   ]
  },
  {
   "cell_type": "markdown",
   "metadata": {},
   "source": [
    "### 2. Remove outliers.\n",
    "\n",
    "Here, we define outliers as those that are beyond 1.5 times the IQR above the upper quartile or below the lower quartile."
   ]
  },
  {
   "cell_type": "markdown",
   "metadata": {},
   "source": [
    "**2.1 Use boxplot to determine outliers.**"
   ]
  },
  {
   "cell_type": "code",
   "execution_count": null,
   "metadata": {},
   "outputs": [],
   "source": [
    "import matplotlib.pyplot as plt\n",
    "import seaborn as sns \n",
    "\n",
    "plt.figure(figsize=(26, 12))\n",
    "sns.boxplot(data=df[iris.feature_names])"
   ]
  },
  {
   "cell_type": "markdown",
   "metadata": {},
   "source": [
    "**2.2 Replace all the outliers with NaN.**"
   ]
  },
  {
   "cell_type": "code",
   "execution_count": null,
   "metadata": {},
   "outputs": [],
   "source": [
    "import numpy as np\n",
    "\n",
    "Q3 = df['sepal width (cm)'].quantile(0.75)\n",
    "Q1 = df['sepal width (cm)'].quantile(0.25)\n",
    "IQR = Q3 - Q1\n",
    "\n",
    "# Set the values of sepal width that are beyond 1.5 times the IQR above the upper quartile as NaN\n",
    "df.loc[df['sepal width (cm)'] > Q3 + 1.5*IQR, 'sepal width (cm)'] = np.nan\n",
    "\n",
    "# TODO: Set other outliers as NaN\n",
    "\n",
    "# Call info to verify that NaN values show up as null\n",
    "df.info()"
   ]
  },
  {
   "cell_type": "markdown",
   "metadata": {},
   "source": [
    "### 3. Apply each of the following methods to deal with the missing features\n",
    "\n",
    "- dropna\n",
    "- fillna\n",
    "- SimpleImputer"
   ]
  },
  {
   "cell_type": "markdown",
   "metadata": {},
   "source": [
    "First, we identify all the rows with null"
   ]
  },
  {
   "cell_type": "code",
   "execution_count": null,
   "metadata": {},
   "outputs": [],
   "source": [
    "rows_with_null = df.isnull().any(axis=1)\n",
    "df[rows_with_null]"
   ]
  },
  {
   "cell_type": "markdown",
   "metadata": {},
   "source": [
    "**3.1 dropna**"
   ]
  },
  {
   "cell_type": "code",
   "execution_count": null,
   "metadata": {},
   "outputs": [],
   "source": [
    "df_dropna = df.dropna(subset=[\"sepal width (cm)\"])\n",
    "\n",
    "# TODO: Use a combination of info(), head(), describe(), and X_dropna[rows_with_null] \n",
    "# to see the difference between df and df_dropna\n"
   ]
  },
  {
   "cell_type": "markdown",
   "metadata": {},
   "source": [
    "**3.2 fillna**"
   ]
  },
  {
   "cell_type": "code",
   "execution_count": null,
   "metadata": {},
   "outputs": [],
   "source": [
    "# TODO: Change val to some other value that is not the mean of df['sepal width (cm)']\n",
    "val = df['sepal width (cm)'].mean()\n",
    "df_fillna = df.copy()\n",
    "df_fillna['sepal width (cm)'] = df['sepal width (cm)'].fillna(val)\n",
    "\n",
    "# TODO: Use a combination of info(), head(), describe(), and df_fillna[rows_with_null] \n",
    "# to see the difference between df and df_fillna\n"
   ]
  },
  {
   "cell_type": "markdown",
   "metadata": {},
   "source": [
    "**3.3 SimpleImputer**"
   ]
  },
  {
   "cell_type": "code",
   "execution_count": null,
   "metadata": {},
   "outputs": [],
   "source": [
    "from sklearn.impute import SimpleImputer\n",
    "\n",
    "# TODO: Change strategy to something that is not \"mean\"\n",
    "imputer = SimpleImputer(strategy=\"mean\")\n",
    "df_imputer = imputer.fit_transform(df)\n",
    "\n",
    "# TODO: Check the type of df_imputer and call df_imputer[rows_with_null]\n",
    "# to see the difference between df, df_fillna, and df_imputer\n"
   ]
  },
  {
   "cell_type": "markdown",
   "metadata": {},
   "source": [
    "### 4. Visualize the data to see which pair of the 3 species are linearly separable."
   ]
  },
  {
   "cell_type": "markdown",
   "metadata": {},
   "source": [
    "First, we separate the input based on their labels to help with plotting"
   ]
  },
  {
   "cell_type": "code",
   "execution_count": null,
   "metadata": {},
   "outputs": [],
   "source": [
    "X_setosa = df_dropna.loc[df_dropna['species'] == 0, iris.feature_names]\n",
    "X_versicolor = df_dropna.loc[df_dropna['species'] == 1, iris.feature_names]\n",
    "X_virginica = df_dropna.loc[df_dropna['species'] == 2, iris.feature_names]"
   ]
  },
  {
   "cell_type": "markdown",
   "metadata": {},
   "source": [
    "**4.1 Scatter plot of sepal length VS sepal width. Use different color for different species.**"
   ]
  },
  {
   "cell_type": "code",
   "execution_count": null,
   "metadata": {},
   "outputs": [],
   "source": [
    "plt.plot(X_setosa[['sepal length (cm)']], X_setosa[['sepal width (cm)']], 'bs', label='setosa')\n",
    "plt.plot(X_versicolor[['sepal length (cm)']], X_versicolor[['sepal width (cm)']], 'yo', label='versicolor')\n",
    "plt.plot(X_virginica[['sepal length (cm)']], X_virginica[['sepal width (cm)']], 'kx', label='virginica')\n",
    "plt.xlabel(\"Sepal length (cm)\")\n",
    "plt.ylabel(\"Sepal width (cm)\")\n",
    "plt.legend()\n",
    "plt.show()"
   ]
  },
  {
   "cell_type": "markdown",
   "metadata": {},
   "source": [
    "**4.2 Scatter plot of petal length VS petal width. Use different color for different species.**"
   ]
  },
  {
   "cell_type": "code",
   "execution_count": null,
   "metadata": {},
   "outputs": [],
   "source": [
    "#TODO"
   ]
  },
  {
   "cell_type": "markdown",
   "metadata": {},
   "source": [
    "### 5. Construct features X and labels y. \n",
    "\n",
    "- X contains only the petal length and petal width features.\n",
    "- y is a binary target such that it is 1 if the instance is Virginica and is 0 otherwise."
   ]
  },
  {
   "cell_type": "code",
   "execution_count": null,
   "metadata": {},
   "outputs": [],
   "source": [
    "X = df_dropna[['petal length (cm)', 'petal width (cm)']] # petal length, petal width\n",
    "\n",
    "# TODO: Set the correct value of species that corresponds to Virginica.\n",
    "# Hint: Use iris['target_names'] to figure out the right index.\n",
    "y = df_dropna['species'] == 1"
   ]
  },
  {
   "cell_type": "markdown",
   "metadata": {},
   "source": [
    "### 6. Train LinearSVC, SVC, and SGDClassifier to identify whether a given instance is Virginica."
   ]
  },
  {
   "cell_type": "code",
   "execution_count": null,
   "metadata": {},
   "outputs": [],
   "source": [
    "from sklearn.svm import SVC, LinearSVC\n",
    "from sklearn.linear_model import SGDClassifier\n",
    "from sklearn.preprocessing import StandardScaler\n",
    "\n",
    "C = 1\n",
    "alpha = 1 / (C * len(X))\n",
    "\n",
    "# Construct the classifiers\n",
    "lin_clf = LinearSVC(loss=\"hinge\", C=C, random_state=42)\n",
    "svm_clf = SVC(kernel=\"linear\", C=C)\n",
    "sgd_clf = SGDClassifier(loss=\"hinge\", alpha=alpha, max_iter=1000, tol=1e-3, random_state=42)\n",
    "\n",
    "# TODO: Scale the features and train the classifiers\n"
   ]
  },
  {
   "cell_type": "markdown",
   "metadata": {},
   "source": [
    "### 4. Pick one of the 3 classifiers and report the following performance measures\n",
    "\n",
    "- training accuracy\n",
    "- cross-validation accuracy\n",
    "- confusion matrix\n",
    "- precision\n",
    "- recall\n",
    "- F1\n",
    "- AUC\n"
   ]
  },
  {
   "cell_type": "code",
   "execution_count": null,
   "metadata": {},
   "outputs": [],
   "source": [
    "# TODO"
   ]
  }
 ],
 "metadata": {
  "kernelspec": {
   "display_name": "Python 3 (ipykernel)",
   "language": "python",
   "name": "python3"
  },
  "language_info": {
   "codemirror_mode": {
    "name": "ipython",
    "version": 3
   },
   "file_extension": ".py",
   "mimetype": "text/x-python",
   "name": "python",
   "nbconvert_exporter": "python",
   "pygments_lexer": "ipython3",
   "version": "3.10.4"
  }
 },
 "nbformat": 4,
 "nbformat_minor": 4
}
