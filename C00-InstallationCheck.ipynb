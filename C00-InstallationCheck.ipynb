{
 "cells": [
  {
   "cell_type": "markdown",
   "metadata": {},
   "source": [
    "**DS 301: Applied Data Modeling and Predictive Analysis**\n",
    "\n",
    "# Check Installation of Required Packages\n",
    "Nok Wongpiromsarn, 8 August 2022"
   ]
  },
  {
   "cell_type": "code",
   "execution_count": 6,
   "metadata": {},
   "outputs": [
    {
     "name": "stdout",
     "output_type": "stream",
     "text": [
      "sys.version_info(major=3, minor=7, micro=4, releaselevel='final', serial=0)\n",
      "1.0.2\n",
      "1.3.5\n",
      "3.5.3\n",
      "0.9.0\n",
      "2.9.1\n"
     ]
    }
   ],
   "source": [
    "# Python ≥3.7 is required\n",
    "import sys\n",
    "print (sys.version_info)\n",
    "assert sys.version_info >= (3, 5)\n",
    "\n",
    "# scikit-Learn ≥0.22 is required\n",
    "import sklearn\n",
    "print (sklearn.__version__)\n",
    "assert sklearn.__version__ >= \"0.22\"\n",
    "\n",
    "# pandas ≥1.0.5 is required\n",
    "import pandas as pd\n",
    "print (pd.__version__)\n",
    "assert pd.__version__ >= \"1.0.5\"\n",
    "\n",
    "# matplotlib ≥3.2 is required\n",
    "import matplotlib\n",
    "print (matplotlib.__version__)\n",
    "assert matplotlib.__version__ >= \"3.2\"\n",
    "\n",
    "# seaborn ≥0.10 is required\n",
    "import seaborn\n",
    "print (seaborn.__version__)\n",
    "assert seaborn.__version__ >= \"0.10\"\n",
    "\n",
    "# tensorflow ≥2.3 is required\n",
    "import tensorflow\n",
    "print (tensorflow.__version__)\n",
    "assert tensorflow.__version__ >= \"2.3\""
   ]
  },
  {
   "cell_type": "code",
   "execution_count": null,
   "metadata": {},
   "outputs": [],
   "source": []
  }
 ],
 "metadata": {
  "kernelspec": {
   "display_name": "Python 3",
   "language": "python",
   "name": "python3"
  },
  "language_info": {
   "codemirror_mode": {
    "name": "ipython",
    "version": 3
   },
   "file_extension": ".py",
   "mimetype": "text/x-python",
   "name": "python",
   "nbconvert_exporter": "python",
   "pygments_lexer": "ipython3",
   "version": "3.7.4"
  }
 },
 "nbformat": 4,
 "nbformat_minor": 4
}
