{
 "cells": [
  {
   "cell_type": "markdown",
   "metadata": {},
   "source": [
    "**DS 301: Applied Data Modeling and Predictive Analysis**\n",
    "\n",
    "# Check Installation of Required Packages\n",
    "Nok Wongpiromsarn, 8 August 2022"
   ]
  },
  {
   "cell_type": "code",
   "execution_count": null,
   "metadata": {},
   "outputs": [],
   "source": [
    "# Python ≥3.7 is required\n",
    "import sys\n",
    "assert sys.version_info >= (3, 5)\n",
    "\n",
    "# scikit-Learn ≥0.22 is required\n",
    "import sklearn\n",
    "assert sklearn.__version__ >= \"0.22\"\n",
    "\n",
    "# pandas ≥1.0.5 is required\n",
    "import pandas as pd\n",
    "assert pd.__version__ >= \"1.0.5\"\n",
    "\n",
    "# matplotlib ≥3.2 is required\n",
    "import matplotlib\n",
    "assert matplotlib.__version__ >= \"3.2\"\n",
    "\n",
    "# seaborn ≥0.10 is required\n",
    "import seaborn\n",
    "assert seaborn.__version__ >= \"0.10\"\n",
    "\n",
    "# tensorflow ≥2.3 is required\n",
    "import tensorflow\n",
    "assert tensorflow.__version__ >= \"2.3\""
   ]
  },
  {
   "cell_type": "code",
   "execution_count": null,
   "metadata": {},
   "outputs": [],
   "source": []
  }
 ],
 "metadata": {
  "kernelspec": {
   "display_name": "Python 3 (ipykernel)",
   "language": "python",
   "name": "python3"
  },
  "language_info": {
   "codemirror_mode": {
    "name": "ipython",
    "version": 3
   },
   "file_extension": ".py",
   "mimetype": "text/x-python",
   "name": "python",
   "nbconvert_exporter": "python",
   "pygments_lexer": "ipython3",
   "version": "3.10.4"
  }
 },
 "nbformat": 4,
 "nbformat_minor": 4
}
