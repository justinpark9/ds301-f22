{
 "cells": [
  {
   "cell_type": "markdown",
   "metadata": {},
   "source": [
    "**DS 301: Applied Data Modeling and Predictive Analysis**\n",
    "\n",
    "# Lab 3 – Classifier\n",
    "\n",
    "Nok Wongpiromsarn, 8 August 2022"
   ]
  },
  {
   "cell_type": "markdown",
   "metadata": {},
   "source": [
    "## 1. Get and visualize the data to gain insights"
   ]
  },
  {
   "cell_type": "code",
   "execution_count": null,
   "metadata": {},
   "outputs": [],
   "source": [
    "import os\n",
    "import numpy as np\n",
    "import pandas as pd"
   ]
  },
  {
   "cell_type": "code",
   "execution_count": null,
   "metadata": {},
   "outputs": [],
   "source": [
    "data_path = os.path.join(\"datasets\", \"german_credit_data.csv\")\n",
    "data = pd.read_csv(data_path)"
   ]
  },
  {
   "cell_type": "code",
   "execution_count": null,
   "metadata": {},
   "outputs": [],
   "source": [
    "data.head()"
   ]
  },
  {
   "cell_type": "code",
   "execution_count": null,
   "metadata": {},
   "outputs": [],
   "source": [
    "import matplotlib.pyplot as plt\n",
    "data['Risk'].hist()\n",
    "plt.xlabel('Risk')\n",
    "plt.ylabel('Count')"
   ]
  },
  {
   "cell_type": "markdown",
   "metadata": {},
   "source": [
    "## 2. Separate the data into features (x) and label (y) such that\n",
    "\n",
    "- y is a binary target, indicating whether risk is \"good\"\n",
    "- x contains the following numerical columns: Age, Job, Credit amount, Duration."
   ]
  },
  {
   "cell_type": "code",
   "execution_count": null,
   "metadata": {},
   "outputs": [],
   "source": [
    "attributes = ['Age',\n",
    "             'Job',\n",
    "             'Credit amount',\n",
    "             'Duration']\n",
    "\n",
    "x = data[attributes]\n",
    "\n",
    "y = (data['Risk'] == 'good')"
   ]
  },
  {
   "cell_type": "markdown",
   "metadata": {},
   "source": [
    "## 3. Pick 2 of the following classifiers and train them, using only numeric features.\n",
    "\n",
    "- Gaussian Naive Bayes\n",
    "- Decision Tree\n",
    "- KNN\n",
    "- LogisticRegression"
   ]
  },
  {
   "cell_type": "code",
   "execution_count": null,
   "metadata": {},
   "outputs": [],
   "source": [
    "# Guassian Naive Bayes\n",
    "from sklearn.naive_bayes import GaussianNB\n",
    "clf_gnb = GaussianNB()\n",
    "clf_gnb.fit(x,y)\n",
    "\n",
    "# Implement another classifier of your choice\n"
   ]
  },
  {
   "cell_type": "markdown",
   "metadata": {},
   "source": [
    "## 4. Report the following performance measures on both classifiers. [2 points]\n",
    "\n",
    "- training accuracy\n",
    "- cross-validation accuracy\n",
    "- confusion matrix\n",
    "- precision\n",
    "- recall\n",
    "- F1\n",
    "- AUC"
   ]
  },
  {
   "cell_type": "code",
   "execution_count": null,
   "metadata": {},
   "outputs": [],
   "source": [
    "# Training accuracy\n",
    "\n",
    "from sklearn import metrics\n",
    "#Naive Bayes\n",
    "print(metrics.accuracy_score(y, clf_gnb.predict(x)))\n",
    "\n",
    "# Your second classifier\n"
   ]
  },
  {
   "cell_type": "code",
   "execution_count": null,
   "metadata": {},
   "outputs": [],
   "source": [
    "# cross-validation accuracy\n",
    "\n",
    "from sklearn.model_selection import cross_val_score\n",
    "#Naive Bayes\n",
    "print(cross_val_score(clf_gnb, x,y, cv = 3, scoring = \"accuracy\"))\n",
    "\n",
    "# Your second classifier\n"
   ]
  },
  {
   "cell_type": "code",
   "execution_count": null,
   "metadata": {},
   "outputs": [],
   "source": [
    "from sklearn.model_selection import cross_val_predict\n",
    "\n",
    "clf_gnb_pred = cross_val_predict(clf_gnb, x, y ,cv = 3)\n",
    "\n",
    "# Your second classifier\n"
   ]
  },
  {
   "cell_type": "code",
   "execution_count": null,
   "metadata": {},
   "outputs": [],
   "source": [
    "# Confusion matrix\n",
    "\n",
    "from sklearn.metrics import confusion_matrix\n",
    "#Naive Bayes\n",
    "print(confusion_matrix(y, clf_gnb_pred))\n",
    "\n",
    "# Your second classifier\n"
   ]
  },
  {
   "cell_type": "markdown",
   "metadata": {},
   "source": [
    "#### Precision Score = TP/(TP + FP)\n",
    "\n",
    "#### Recall Score  = TP/(TP + FN)\n",
    "\n",
    "#### F1 Score = Harmonic Mean of Precision and Recall\n",
    "\n"
   ]
  },
  {
   "cell_type": "code",
   "execution_count": null,
   "metadata": {},
   "outputs": [],
   "source": [
    "# Precision, recall and F1\n",
    "\n",
    "from sklearn.metrics import precision_score, recall_score, f1_score\n",
    "\n",
    "#Naive Bayes\n",
    "print(\"Precision Score:\", precision_score(y, clf_gnb_pred))\n",
    "print(\"Recall Score: \", recall_score(y, clf_gnb_pred))\n",
    "print(\"F1 Score:\", f1_score(y, clf_gnb_pred))\n",
    "\n",
    "# Your second classifier\n"
   ]
  },
  {
   "cell_type": "code",
   "execution_count": null,
   "metadata": {},
   "outputs": [],
   "source": [
    "#Naive Bayes\n",
    "y_gnb_score = cross_val_predict(clf_gnb, x, y ,cv = 3, method = \"predict_proba\")\n",
    "\n",
    "# Your second classifier\n"
   ]
  },
  {
   "cell_type": "code",
   "execution_count": null,
   "metadata": {},
   "outputs": [],
   "source": [
    "from sklearn.metrics import roc_auc_score\n",
    "#Naive Bayes\n",
    "print(roc_auc_score(y, y_gnb_score[:,1]))\n",
    "\n",
    "# Your second classifier\n"
   ]
  },
  {
   "cell_type": "code",
   "execution_count": null,
   "metadata": {},
   "outputs": [],
   "source": []
  }
 ],
 "metadata": {
  "kernelspec": {
   "display_name": "Python 3 (ipykernel)",
   "language": "python",
   "name": "python3"
  },
  "language_info": {
   "codemirror_mode": {
    "name": "ipython",
    "version": 3
   },
   "file_extension": ".py",
   "mimetype": "text/x-python",
   "name": "python",
   "nbconvert_exporter": "python",
   "pygments_lexer": "ipython3",
   "version": "3.10.4"
  }
 },
 "nbformat": 4,
 "nbformat_minor": 4
}
