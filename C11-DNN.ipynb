{
 "cells": [
  {
   "cell_type": "markdown",
   "metadata": {},
   "source": [
    "**DS 301: Applied Data Modeling and Predictive Analysis**\n",
    "\n",
    "# Lab 11 – DNN-Classifier\n",
    "\n",
    "Justin Park, 29 November 2022\n",
    "\n",
    "**Instructions:**\n",
    "1. Load the Dogs & Cats Images dataset from https://www.kaggle.com/chetankv/dogs-cats-images (Links to an external site.). Use tf.keras.preprocessing.image.ImageDataGenerator to generate batches of tensor image data from RGB images.\n",
    "2. Build an image classifier using a sequential model with the following layers:\n",
    "   - a flatten layer to convert each input image into a 1D array\n",
    "   - a hidden dense layer with 300 neurons, ELU activation function, and He initialization\n",
    "   - a hidden dense layer with 100 neurons, ELU activation function, and He initialization\n",
    "   - a dense output layer\n",
    "3. Train the model for 5 epochs.\n",
    "4. Visualize some images along with their predictions. What do you observe from the predictions?\n",
    "5. Plot the learning curve (the mean training loss and accuracy measured over each epoch, and the mean validation loss and accuracy measured at the end of each epoch).\n",
    "6. Build the second model by applying Batch Normalization after every hidden layer and as the first layer in the model (after flattening the input images). Train the model for 5 epochs and plot the learning curve.\n",
    "7. Build a CNN model with the following layers.  Train the model for 5 epochs and plot the learning curve.\n",
    "   - a convolutional layer with 32 3x3 filters and ReLU activation function\n",
    "   - a max pooling layer with a pool size of 2\n",
    "   - a convolutional layer with 64 3x3 filters and ReLU activation function\n",
    "   - a max pooling layer with a pool size of 2\n",
    "   - a convolutional layer with 128 3x3 filters and ReLU activation function\n",
    "   - a max pooling layer with a pool size of 2\n",
    "   - a flatten layer\n",
    "   - a dense layer with 64 neurons and ELU activation function\n",
    "   - a dense layer with 32 neurons and ELU activation function\n",
    "   - a dense output layer\n",
    "8. Build the second CNN model by adding Dropout with dropout rate of 20% after every max pooling layer and hidden dense layer. Train the model for 5 epochs and plot the learning curve.\n",
    "9. Discuss the differences between the 4 models in terms of their performance and the number of parameters."
   ]
  },
  {
   "cell_type": "markdown",
   "metadata": {},
   "source": [
    "### 1. Load the Dogs & Cats Images dataset from https://www.kaggle.com/chetankv/dogs-cats-images"
   ]
  },
  {
   "cell_type": "code",
   "execution_count": 1,
   "metadata": {},
   "outputs": [
    {
     "name": "stdout",
     "output_type": "stream",
     "text": [
      "Found 8000 images belonging to 2 classes.\n",
      "(64, 64, 3)\n",
      "Found 2000 images belonging to 2 classes.\n",
      "(64, 64, 3)\n"
     ]
    }
   ],
   "source": [
    "import os\n",
    "from tensorflow import keras\n",
    "\n",
    "data_path = os.path.join(\"datasets\", \"dogs_cats\")\n",
    "train_path = os.path.join(data_path, \"training_set\")\n",
    "test_path = os.path.join(data_path, \"test_set\")\n",
    "\n",
    "# Use ImageDataGenerator to prepare the dataset\n",
    "data_generator = keras.preprocessing.image.ImageDataGenerator(rescale = 1.0/255.0)\n",
    "\n",
    "batch_size = 32\n",
    "image_size = 64\n",
    "data_train = data_generator.flow_from_directory(\n",
    "    directory = train_path,\n",
    "    target_size = (image_size,image_size),\n",
    "    batch_size = batch_size,\n",
    "    class_mode = 'binary'\n",
    ")\n",
    "print(data_train.image_shape)\n",
    "\n",
    "# TODO: Create data_test for the test/validation set. For the purpose of this lab, \n",
    "# we'll use the test set for validation, although this is not a good practice.\n",
    "batch_size = 32\n",
    "image_size = 64\n",
    "data_test = data_generator.flow_from_directory(\n",
    "    directory = test_path,\n",
    "    target_size = (image_size,image_size),\n",
    "    batch_size = batch_size,\n",
    "    class_mode = 'binary'\n",
    ")\n",
    "print(data_test.image_shape)"
   ]
  },
  {
   "cell_type": "markdown",
   "metadata": {},
   "source": [
    "### 2. Build an image classifier using a sequential model with the following layers:\n",
    "\n",
    "- a flatten layer to convert each input image into a 1D array\n",
    "- a hidden dense layer with 300 neurons, ELU activation function, and He initialization\n",
    "- a hidden dense layer with 100 neurons, ELU activation function, and He initialization\n",
    "- a dense output layer"
   ]
  },
  {
   "cell_type": "code",
   "execution_count": 2,
   "metadata": {},
   "outputs": [
    {
     "name": "stdout",
     "output_type": "stream",
     "text": [
      "Model: \"sequential\"\n",
      "_________________________________________________________________\n",
      " Layer (type)                Output Shape              Param #   \n",
      "=================================================================\n",
      " flatten (Flatten)           (None, 12288)             0         \n",
      "                                                                 \n",
      " dense (Dense)               (None, 300)               3686700   \n",
      "                                                                 \n",
      " dense_1 (Dense)             (None, 100)               30100     \n",
      "                                                                 \n",
      " dense_2 (Dense)             (None, 1)                 101       \n",
      "                                                                 \n",
      "=================================================================\n",
      "Total params: 3,716,901\n",
      "Trainable params: 3,716,901\n",
      "Non-trainable params: 0\n",
      "_________________________________________________________________\n"
     ]
    }
   ],
   "source": [
    "model_dnn1 = keras.models.Sequential()\n",
    "model_dnn1.add(keras.layers.Flatten(input_shape=[64, 64, 3]))\n",
    "model_dnn1.add(keras.layers.Dense(300, activation=\"elu\", kernel_initializer=\"he_normal\"))\n",
    "model_dnn1.add(keras.layers.Dense(100, activation=\"elu\", kernel_initializer=\"he_normal\"))\n",
    "model_dnn1.add(keras.layers.Dense(1, activation=\"sigmoid\"))\n",
    "model_dnn1.compile(loss=\"binary_crossentropy\",\n",
    "                  optimizer=\"sgd\",\n",
    "                  metrics=[\"accuracy\"])\n",
    "\n",
    "# Displays all the model’s layers\n",
    "model_dnn1.summary()"
   ]
  },
  {
   "cell_type": "markdown",
   "metadata": {},
   "source": [
    "### 3. Train the model for 5 epochs"
   ]
  },
  {
   "cell_type": "code",
   "execution_count": 3,
   "metadata": {},
   "outputs": [
    {
     "name": "stdout",
     "output_type": "stream",
     "text": [
      "Epoch 1/5\n",
      "250/250 [==============================] - 67s 265ms/step - loss: 0.7200 - accuracy: 0.5447 - val_loss: 0.6766 - val_accuracy: 0.5750\n",
      "Epoch 2/5\n",
      "250/250 [==============================] - 61s 244ms/step - loss: 0.6667 - accuracy: 0.5863 - val_loss: 0.6540 - val_accuracy: 0.6215\n",
      "Epoch 3/5\n",
      "250/250 [==============================] - 61s 244ms/step - loss: 0.6506 - accuracy: 0.6151 - val_loss: 0.6730 - val_accuracy: 0.5885\n",
      "Epoch 4/5\n",
      "250/250 [==============================] - 64s 258ms/step - loss: 0.6440 - accuracy: 0.6189 - val_loss: 0.6515 - val_accuracy: 0.6080\n",
      "Epoch 5/5\n",
      "250/250 [==============================] - 67s 268ms/step - loss: 0.6345 - accuracy: 0.6380 - val_loss: 0.6900 - val_accuracy: 0.5700\n"
     ]
    }
   ],
   "source": [
    "fitted_model = model_dnn1.fit(data_train, epochs=5, validation_data=(data_test))"
   ]
  },
  {
   "cell_type": "markdown",
   "metadata": {},
   "source": [
    "### 4. Visualize some images along with their predictions."
   ]
  },
  {
   "cell_type": "code",
   "execution_count": null,
   "metadata": {
    "scrolled": true
   },
   "outputs": [],
   "source": []
  },
  {
   "cell_type": "markdown",
   "metadata": {},
   "source": [
    "### 5. Plot the learning curve"
   ]
  },
  {
   "cell_type": "code",
   "execution_count": 4,
   "metadata": {},
   "outputs": [
    {
     "data": {
      "text/plain": [
       "<AxesSubplot:>"
      ]
     },
     "execution_count": 4,
     "metadata": {},
     "output_type": "execute_result"
    },
    {
     "data": {
      "image/png": "[encoded data removed]",
      "text/plain": [
       "<Figure size 576x360 with 1 Axes>"
      ]
     },
     "metadata": {
      "needs_background": "light"
     },
     "output_type": "display_data"
    }
   ],
   "source": [
    "import pandas as pd\n",
    "import matplotlib.pyplot as plt\n",
    "\n",
    "pd.DataFrame(fitted_model.history).plot(figsize=(8, 5))\n",
    "plt.grid(True)\n",
    "plt.gca().set_ylim(0, 1)\n",
    "plt.show()"
   ]
  },
  {
   "cell_type": "markdown",
   "metadata": {},
   "source": [
    "### 6. Build the second model by applying Batch Normalization after every hidden layer and as the first layer in the model (after flattening the input images). Train the model for 5 epochs and plot the learning curve."
   ]
  },
  {
   "cell_type": "code",
   "execution_count": 7,
   "metadata": {},
   "outputs": [
    {
     "name": "stdout",
     "output_type": "stream",
     "text": [
      "Model: \"sequential_3\"\n",
      "_________________________________________________________________\n",
      " Layer (type)                Output Shape              Param #   \n",
      "=================================================================\n",
      " flatten_3 (Flatten)         (None, 12288)             0         \n",
      "                                                                 \n",
      " batch_normalization_3 (Batc  (None, 12288)            49152     \n",
      " hNormalization)                                                 \n",
      "                                                                 \n",
      " dense_9 (Dense)             (None, 300)               3686700   \n",
      "                                                                 \n",
      " batch_normalization_4 (Batc  (None, 300)              1200      \n",
      " hNormalization)                                                 \n",
      "                                                                 \n",
      " dense_10 (Dense)            (None, 100)               30100     \n",
      "                                                                 \n",
      " batch_normalization_5 (Batc  (None, 100)              400       \n",
      " hNormalization)                                                 \n",
      "                                                                 \n",
      " dense_11 (Dense)            (None, 1)                 101       \n",
      "                                                                 \n",
      " batch_normalization_6 (Batc  (None, 1)                4         \n",
      " hNormalization)                                                 \n",
      "                                                                 \n",
      "=================================================================\n",
      "Total params: 3,767,657\n",
      "Trainable params: 3,742,279\n",
      "Non-trainable params: 25,378\n",
      "_________________________________________________________________\n"
     ]
    }
   ],
   "source": [
    "model_dnn2 = keras.models.Sequential()\n",
    "model_dnn2.add(keras.layers.Flatten(input_shape=[64, 64, 3]))\n",
    "model_dnn2.add(keras.layers.BatchNormalization())\n",
    "model_dnn2.add(keras.layers.Dense(300, activation=\"elu\", kernel_initializer=\"he_normal\"))\n",
    "model_dnn2.add(keras.layers.BatchNormalization())\n",
    "model_dnn2.add(keras.layers.Dense(100, activation=\"elu\", kernel_initializer=\"he_normal\"))\n",
    "model_dnn2.add(keras.layers.BatchNormalization())\n",
    "model_dnn2.add(keras.layers.Dense(1, activation=\"sigmoid\"))\n",
    "model_dnn2.add(keras.layers.BatchNormalization())\n",
    "model_dnn2.compile(loss=\"binary_crossentropy\",\n",
    "                  optimizer=\"sgd\",\n",
    "                  metrics=[\"accuracy\"])\n",
    "\n",
    "# Displays all the model’s layers\n",
    "model_dnn2.summary()"
   ]
  },
  {
   "cell_type": "code",
   "execution_count": 8,
   "metadata": {},
   "outputs": [
    {
     "name": "stdout",
     "output_type": "stream",
     "text": [
      "Epoch 1/5\n",
      "250/250 [==============================] - 65s 249ms/step - loss: 3.3952 - accuracy: 0.5380 - val_loss: 2.0068 - val_accuracy: 0.5755\n",
      "Epoch 2/5\n",
      "250/250 [==============================] - 62s 247ms/step - loss: 1.4613 - accuracy: 0.5771 - val_loss: 0.6754 - val_accuracy: 0.5815\n",
      "Epoch 3/5\n",
      "250/250 [==============================] - 60s 241ms/step - loss: 0.6753 - accuracy: 0.5839 - val_loss: 0.6707 - val_accuracy: 0.5890\n",
      "Epoch 4/5\n",
      "250/250 [==============================] - 61s 244ms/step - loss: 0.6716 - accuracy: 0.5971 - val_loss: 0.6658 - val_accuracy: 0.6050\n",
      "Epoch 5/5\n",
      "250/250 [==============================] - 62s 246ms/step - loss: 0.6651 - accuracy: 0.6021 - val_loss: 0.6615 - val_accuracy: 0.6070\n"
     ]
    }
   ],
   "source": [
    "fitted_model2 = model_dnn2.fit(data_train, epochs=5, validation_data=(data_test))"
   ]
  },
  {
   "cell_type": "code",
   "execution_count": 9,
   "metadata": {},
   "outputs": [
    {
     "data": {
      "image/png": "[encoded data removed]",
      "text/plain": [
       "<Figure size 576x360 with 1 Axes>"
      ]
     },
     "metadata": {
      "needs_background": "light"
     },
     "output_type": "display_data"
    }
   ],
   "source": [
    "pd.DataFrame(fitted_model2.history).plot(figsize=(8, 5))\n",
    "plt.grid(True)\n",
    "plt.gca().set_ylim(0, 1)\n",
    "plt.show()"
   ]
  },
  {
   "cell_type": "markdown",
   "metadata": {},
   "source": [
    "### 7.  Build a CNN model with the following layers.  Train the model for 5 epochs and plot the learning curve.\n",
    "\n",
    "- a convolutional layer with 32 3x3 filters and ReLU activation function\n",
    "- a max pooling layer with a pool size of 2\n",
    "- a convolutional layer with 64 3x3 filters and ReLU activation function\n",
    "- a max pooling layer with a pool size of 2\n",
    "- a convolutional layer with 128 3x3 filters and ReLU activation function\n",
    "- a max pooling layer with a pool size of 2\n",
    "- a flatten layer\n",
    "- a dense layer with 64 neurons and ELU activation function\n",
    "- a dense layer with 32 neurons and ELU activation function\n",
    "- a dense output layer"
   ]
  },
  {
   "cell_type": "code",
   "execution_count": 13,
   "metadata": {},
   "outputs": [
    {
     "name": "stdout",
     "output_type": "stream",
     "text": [
      "Model: \"sequential_7\"\n",
      "_________________________________________________________________\n",
      " Layer (type)                Output Shape              Param #   \n",
      "=================================================================\n",
      " conv2d_4 (Conv2D)           (None, 62, 62, 32)        896       \n",
      "                                                                 \n",
      " max_pooling2d_3 (MaxPooling  (None, 31, 31, 32)       0         \n",
      " 2D)                                                             \n",
      "                                                                 \n",
      " conv2d_5 (Conv2D)           (None, 29, 29, 64)        18496     \n",
      "                                                                 \n",
      " max_pooling2d_4 (MaxPooling  (None, 14, 14, 64)       0         \n",
      " 2D)                                                             \n",
      "                                                                 \n",
      " conv2d_6 (Conv2D)           (None, 12, 12, 128)       73856     \n",
      "                                                                 \n",
      " max_pooling2d_5 (MaxPooling  (None, 6, 6, 128)        0         \n",
      " 2D)                                                             \n",
      "                                                                 \n",
      " flatten_5 (Flatten)         (None, 4608)              0         \n",
      "                                                                 \n",
      " dense_15 (Dense)            (None, 64)                294976    \n",
      "                                                                 \n",
      " dense_16 (Dense)            (None, 32)                2080      \n",
      "                                                                 \n",
      " dense_17 (Dense)            (None, 1)                 33        \n",
      "                                                                 \n",
      "=================================================================\n",
      "Total params: 390,337\n",
      "Trainable params: 390,337\n",
      "Non-trainable params: 0\n",
      "_________________________________________________________________\n"
     ]
    }
   ],
   "source": [
    "from tensorflow.keras.layers import Input, Lambda, Dense, Flatten,Conv2D, MaxPooling2D\n",
    "\n",
    "model_cnn = keras.models.Sequential()\n",
    "model_cnn.add(Conv2D(filters=32,kernel_size=3,activation=\"relu\",input_shape=(64,64,3)))\n",
    "model_cnn.add(MaxPooling2D(pool_size=2))\n",
    "model_cnn.add(Conv2D(filters=64,kernel_size=3,activation=\"relu\",input_shape=(64,64,3)))\n",
    "model_cnn.add(MaxPooling2D(pool_size=2))\n",
    "model_cnn.add(Conv2D(filters=128,kernel_size=3,activation=\"relu\",input_shape=(64,64,3)))\n",
    "model_cnn.add(MaxPooling2D(pool_size=2))\n",
    "model_cnn.add(keras.layers.Flatten(input_shape=[64,64,3]))\n",
    "model_cnn.add(keras.layers.Dense(64, activation=\"elu\"))\n",
    "model_cnn.add(keras.layers.Dense(32, activation=\"elu\"))\n",
    "model_cnn.add(keras.layers.Dense(1, activation=\"sigmoid\"))\n",
    "model_cnn.compile(loss=\"binary_crossentropy\",\n",
    "                  optimizer=\"sgd\",\n",
    "                  metrics=[\"accuracy\"])\n",
    "\n",
    "# Displays all the model’s layers\n",
    "model_cnn.summary()"
   ]
  },
  {
   "cell_type": "code",
   "execution_count": 14,
   "metadata": {},
   "outputs": [
    {
     "name": "stdout",
     "output_type": "stream",
     "text": [
      "Epoch 1/5\n",
      "250/250 [==============================] - 86s 341ms/step - loss: 0.6883 - accuracy: 0.5412 - val_loss: 0.6811 - val_accuracy: 0.5585\n",
      "Epoch 2/5\n",
      "250/250 [==============================] - 77s 307ms/step - loss: 0.6764 - accuracy: 0.5846 - val_loss: 0.6688 - val_accuracy: 0.5985\n",
      "Epoch 3/5\n",
      "250/250 [==============================] - 78s 312ms/step - loss: 0.6634 - accuracy: 0.6004 - val_loss: 0.6559 - val_accuracy: 0.6250\n",
      "Epoch 4/5\n",
      "250/250 [==============================] - 76s 304ms/step - loss: 0.6559 - accuracy: 0.6091 - val_loss: 0.6556 - val_accuracy: 0.5945\n",
      "Epoch 5/5\n",
      "250/250 [==============================] - 77s 308ms/step - loss: 0.6458 - accuracy: 0.6225 - val_loss: 0.6524 - val_accuracy: 0.6135\n"
     ]
    }
   ],
   "source": [
    "fitted_model3 = model_cnn.fit(data_train, epochs=5, validation_data=(data_test))"
   ]
  },
  {
   "cell_type": "code",
   "execution_count": 15,
   "metadata": {},
   "outputs": [
    {
     "data": {
      "image/png": "[encoded data removed]",
      "text/plain": [
       "<Figure size 576x360 with 1 Axes>"
      ]
     },
     "metadata": {
      "needs_background": "light"
     },
     "output_type": "display_data"
    }
   ],
   "source": [
    "pd.DataFrame(fitted_model3.history).plot(figsize=(8, 5))\n",
    "plt.grid(True)\n",
    "plt.gca().set_ylim(0, 1)\n",
    "plt.show()"
   ]
  },
  {
   "cell_type": "markdown",
   "metadata": {},
   "source": [
    "### 8. Build the second CNN model by adding Dropout with dropout rate of 20% after every max pooling layer and hidden dense layer. Train the model for 5 epochs and plot the learning curve."
   ]
  },
  {
   "cell_type": "code",
   "execution_count": 16,
   "metadata": {},
   "outputs": [
    {
     "name": "stdout",
     "output_type": "stream",
     "text": [
      "Model: \"sequential_8\"\n",
      "_________________________________________________________________\n",
      " Layer (type)                Output Shape              Param #   \n",
      "=================================================================\n",
      " conv2d_7 (Conv2D)           (None, 62, 62, 32)        896       \n",
      "                                                                 \n",
      " max_pooling2d_6 (MaxPooling  (None, 31, 31, 32)       0         \n",
      " 2D)                                                             \n",
      "                                                                 \n",
      " dropout (Dropout)           (None, 31, 31, 32)        0         \n",
      "                                                                 \n",
      " conv2d_8 (Conv2D)           (None, 29, 29, 64)        18496     \n",
      "                                                                 \n",
      " max_pooling2d_7 (MaxPooling  (None, 14, 14, 64)       0         \n",
      " 2D)                                                             \n",
      "                                                                 \n",
      " dropout_1 (Dropout)         (None, 14, 14, 64)        0         \n",
      "                                                                 \n",
      " conv2d_9 (Conv2D)           (None, 12, 12, 128)       73856     \n",
      "                                                                 \n",
      " max_pooling2d_8 (MaxPooling  (None, 6, 6, 128)        0         \n",
      " 2D)                                                             \n",
      "                                                                 \n",
      " dropout_2 (Dropout)         (None, 6, 6, 128)         0         \n",
      "                                                                 \n",
      " flatten_6 (Flatten)         (None, 4608)              0         \n",
      "                                                                 \n",
      " dense_18 (Dense)            (None, 64)                294976    \n",
      "                                                                 \n",
      " dropout_3 (Dropout)         (None, 64)                0         \n",
      "                                                                 \n",
      " dense_19 (Dense)            (None, 32)                2080      \n",
      "                                                                 \n",
      " dropout_4 (Dropout)         (None, 32)                0         \n",
      "                                                                 \n",
      " dense_20 (Dense)            (None, 1)                 33        \n",
      "                                                                 \n",
      " dropout_5 (Dropout)         (None, 1)                 0         \n",
      "                                                                 \n",
      "=================================================================\n",
      "Total params: 390,337\n",
      "Trainable params: 390,337\n",
      "Non-trainable params: 0\n",
      "_________________________________________________________________\n"
     ]
    }
   ],
   "source": [
    "from tensorflow.keras.layers import Input, Lambda, Dense, Flatten,Conv2D, MaxPooling2D, Dropout\n",
    "\n",
    "model_cnn2 = keras.models.Sequential()\n",
    "model_cnn2.add(Conv2D(filters=32,kernel_size=3,activation=\"relu\",input_shape=(64,64,3)))\n",
    "model_cnn2.add(MaxPooling2D(pool_size=2))\n",
    "model_cnn2.add(Dropout(0.2, input_shape=(64,64,3)))\n",
    "model_cnn2.add(Conv2D(filters=64,kernel_size=3,activation=\"relu\",input_shape=(64,64,3)))\n",
    "model_cnn2.add(MaxPooling2D(pool_size=2))\n",
    "model_cnn2.add(Dropout(0.2, input_shape=(64,64,3)))\n",
    "model_cnn2.add(Conv2D(filters=128,kernel_size=3,activation=\"relu\",input_shape=(64,64,3)))\n",
    "model_cnn2.add(MaxPooling2D(pool_size=2))\n",
    "model_cnn2.add(Dropout(0.2, input_shape=(64,64,3)))\n",
    "model_cnn2.add(keras.layers.Flatten(input_shape=[64,64,3]))\n",
    "model_cnn2.add(keras.layers.Dense(64, activation=\"elu\"))\n",
    "model_cnn2.add(Dropout(0.2, input_shape=(64,64,3)))\n",
    "model_cnn2.add(keras.layers.Dense(32, activation=\"elu\"))\n",
    "model_cnn2.add(Dropout(0.2, input_shape=(64,64,3)))\n",
    "model_cnn2.add(keras.layers.Dense(1, activation=\"sigmoid\"))\n",
    "model_cnn2.add(Dropout(0.2, input_shape=(64,64,3)))\n",
    "model_cnn2.compile(loss=\"binary_crossentropy\",\n",
    "                  optimizer=\"sgd\",\n",
    "                  metrics=[\"accuracy\"])\n",
    "\n",
    "# Displays all the model’s layers\n",
    "model_cnn2.summary()"
   ]
  },
  {
   "cell_type": "code",
   "execution_count": 17,
   "metadata": {},
   "outputs": [
    {
     "name": "stdout",
     "output_type": "stream",
     "text": [
      "Epoch 1/5\n",
      "250/250 [==============================] - 84s 330ms/step - loss: 2.1004 - accuracy: 0.5050 - val_loss: 0.7027 - val_accuracy: 0.5000\n",
      "Epoch 2/5\n",
      "250/250 [==============================] - 83s 333ms/step - loss: 2.0538 - accuracy: 0.5206 - val_loss: 0.7062 - val_accuracy: 0.5000\n",
      "Epoch 3/5\n",
      "250/250 [==============================] - 78s 312ms/step - loss: 2.1275 - accuracy: 0.5360 - val_loss: 0.6973 - val_accuracy: 0.4995\n",
      "Epoch 4/5\n",
      "250/250 [==============================] - 77s 308ms/step - loss: 2.1295 - accuracy: 0.5585 - val_loss: 0.7120 - val_accuracy: 0.5000\n",
      "Epoch 5/5\n",
      "250/250 [==============================] - 78s 311ms/step - loss: 2.1067 - accuracy: 0.5710 - val_loss: 0.7355 - val_accuracy: 0.5010\n"
     ]
    }
   ],
   "source": [
    "fitted_model4 = model_cnn2.fit(data_train, epochs=5, validation_data=(data_test))"
   ]
  },
  {
   "cell_type": "code",
   "execution_count": 18,
   "metadata": {},
   "outputs": [
    {
     "data": {
      "image/png": "[encoded data removed]",
      "text/plain": [
       "<Figure size 576x360 with 1 Axes>"
      ]
     },
     "metadata": {
      "needs_background": "light"
     },
     "output_type": "display_data"
    }
   ],
   "source": [
    "pd.DataFrame(fitted_model4.history).plot(figsize=(8, 5))\n",
    "plt.grid(True)\n",
    "plt.gca().set_ylim(0, 1)\n",
    "plt.show()"
   ]
  },
  {
   "cell_type": "code",
   "execution_count": null,
   "metadata": {},
   "outputs": [],
   "source": []
  }
 ],
 "metadata": {
  "kernelspec": {
   "display_name": "Python 3",
   "language": "python",
   "name": "python3"
  },
  "language_info": {
   "codemirror_mode": {
    "name": "ipython",
    "version": 3
   },
   "file_extension": ".py",
   "mimetype": "text/x-python",
   "name": "python",
   "nbconvert_exporter": "python",
   "pygments_lexer": "ipython3",
   "version": "3.7.4"
  }
 },
 "nbformat": 4,
 "nbformat_minor": 2
}
