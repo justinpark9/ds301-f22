{
 "cells": [
  {
   "cell_type": "markdown",
   "metadata": {},
   "source": [
    "**DS 301: Applied Data Modeling and Predictive Analysis**\n",
    "\n",
    "# Lab 11 – DNN-Classifier\n",
    "\n",
    "Nok Wongpiromsarn, 16 November 2022\n",
    "\n",
    "**Instructions:**\n",
    "1. Load the Dogs & Cats Images dataset from https://www.kaggle.com/chetankv/dogs-cats-images (Links to an external site.). Use tf.keras.preprocessing.image.ImageDataGenerator to generate batches of tensor image data from RGB images.\n",
    "2. Build an image classifier using a sequential model with the following layers:\n",
    "   - a flatten layer to convert each input image into a 1D array\n",
    "   - a hidden dense layer with 300 neurons, ELU activation function, and He initialization\n",
    "   - a hidden dense layer with 100 neurons, ELU activation function, and He initialization\n",
    "   - a dense output layer\n",
    "3. Train the model for 5 epochs.\n",
    "4. Visualize some images along with their predictions. What do you observe from the predictions?\n",
    "5. Plot the learning curve (the mean training loss and accuracy measured over each epoch, and the mean validation loss and accuracy measured at the end of each epoch).\n",
    "6. Build the second model by applying Batch Normalization after every hidden layer and as the first layer in the model (after flattening the input images). Train the model for 5 epochs and plot the learning curve.\n",
    "7. Build a CNN model with the following layers.  Train the model for 5 epochs and plot the learning curve.\n",
    "   - a convolutional layer with 32 3x3 filters and ReLU activation function\n",
    "   - a max pooling layer with a pool size of 2\n",
    "   - a convolutional layer with 64 3x3 filters and ReLU activation function\n",
    "   - a max pooling layer with a pool size of 2\n",
    "   - a convolutional layer with 128 3x3 filters and ReLU activation function\n",
    "   - a max pooling layer with a pool size of 2\n",
    "   - a flatten layer\n",
    "   - a dense layer with 64 neurons and ELU activation function\n",
    "   - a dense layer with 32 neurons and ELU activation function\n",
    "   - a dense output layer\n",
    "8. Build the second CNN model by adding Dropout with dropout rate of 20% after every max pooling layer and hidden dense layer. Train the model for 5 epochs and plot the learning curve.\n",
    "9. Discuss the differences between the 4 models in terms of their performance and the number of parameters."
   ]
  },
  {
   "cell_type": "markdown",
   "metadata": {},
   "source": [
    "### 1. Load the Dogs & Cats Images dataset from https://www.kaggle.com/chetankv/dogs-cats-images"
   ]
  },
  {
   "cell_type": "code",
   "execution_count": 1,
   "metadata": {},
   "outputs": [
    {
     "name": "stdout",
     "output_type": "stream",
     "text": [
      "Found 8000 images belonging to 2 classes.\n",
      "(64, 64, 3)\n"
     ]
    }
   ],
   "source": [
    "import os\n",
    "from tensorflow import keras\n",
    "\n",
    "data_path = os.path.join(\"datasets\", \"dogs_cats\")\n",
    "train_path = os.path.join(data_path, \"training_set\")\n",
    "test_path = os.path.join(data_path, \"test_set\")\n",
    "\n",
    "# Use ImageDataGenerator to prepare the dataset\n",
    "data_generator = keras.preprocessing.image.ImageDataGenerator(rescale = 1.0/255.0)\n",
    "\n",
    "batch_size = 32\n",
    "image_size = 64\n",
    "data_train = data_generator.flow_from_directory(\n",
    "    directory = train_path,\n",
    "    target_size = (image_size,image_size),\n",
    "    batch_size = batch_size,\n",
    "    class_mode = 'binary'\n",
    ")\n",
    "print(data_train.image_shape)\n",
    "\n",
    "# TODO: Create data_test for the test/validation set. For the purpose of this lab, \n",
    "# we'll use the test set for validation, although this is not a good practice."
   ]
  },
  {
   "cell_type": "markdown",
   "metadata": {},
   "source": [
    "### 2. Build an image classifier using a sequential model with the following layers:\n",
    "\n",
    "- a flatten layer to convert each input image into a 1D array\n",
    "- a hidden dense layer with 300 neurons, ELU activation function, and He initialization\n",
    "- a hidden dense layer with 100 neurons, ELU activation function, and He initialization\n",
    "- a dense output layer"
   ]
  },
  {
   "cell_type": "code",
   "execution_count": null,
   "metadata": {},
   "outputs": [],
   "source": [
    "\n",
    "\n",
    "# Displays all the model’s layers\n",
    "model_dnn1.summary()"
   ]
  },
  {
   "cell_type": "markdown",
   "metadata": {},
   "source": [
    "### 3. Train the model for 5 epochs"
   ]
  },
  {
   "cell_type": "code",
   "execution_count": null,
   "metadata": {},
   "outputs": [],
   "source": []
  },
  {
   "cell_type": "markdown",
   "metadata": {},
   "source": [
    "### 4. Visualize some images along with their predictions."
   ]
  },
  {
   "cell_type": "code",
   "execution_count": null,
   "metadata": {
    "scrolled": true
   },
   "outputs": [],
   "source": []
  },
  {
   "cell_type": "markdown",
   "metadata": {},
   "source": [
    "### 5. Plot the learning curve"
   ]
  },
  {
   "cell_type": "code",
   "execution_count": null,
   "metadata": {},
   "outputs": [],
   "source": []
  },
  {
   "cell_type": "markdown",
   "metadata": {},
   "source": [
    "### 6. Build the second model by applying Batch Normalization after every hidden layer and as the first layer in the model (after flattening the input images). Train the model for 5 epochs and plot the learning curve."
   ]
  },
  {
   "cell_type": "code",
   "execution_count": null,
   "metadata": {},
   "outputs": [],
   "source": []
  },
  {
   "cell_type": "markdown",
   "metadata": {},
   "source": [
    "### 7.  Build a CNN model with the following layers.  Train the model for 5 epochs and plot the learning curve.\n",
    "\n",
    "- a convolutional layer with 32 3x3 filters and ReLU activation function\n",
    "- a max pooling layer with a pool size of 2\n",
    "- a convolutional layer with 64 3x3 filters and ReLU activation function\n",
    "- a max pooling layer with a pool size of 2\n",
    "- a convolutional layer with 128 3x3 filters and ReLU activation function\n",
    "- a max pooling layer with a pool size of 2\n",
    "- a flatten layer\n",
    "- a dense layer with 64 neurons and ELU activation function\n",
    "- a dense layer with 32 neurons and ELU activation function\n",
    "- a dense output layer"
   ]
  },
  {
   "cell_type": "code",
   "execution_count": null,
   "metadata": {},
   "outputs": [],
   "source": []
  },
  {
   "cell_type": "markdown",
   "metadata": {},
   "source": [
    "### 8. Build the second CNN model by adding Dropout with dropout rate of 20% after every max pooling layer and hidden dense layer. Train the model for 5 epochs and plot the learning curve."
   ]
  },
  {
   "cell_type": "code",
   "execution_count": null,
   "metadata": {},
   "outputs": [],
   "source": []
  }
 ],
 "metadata": {
  "kernelspec": {
   "display_name": "Python 3 (ipykernel)",
   "language": "python",
   "name": "python3"
  },
  "language_info": {
   "codemirror_mode": {
    "name": "ipython",
    "version": 3
   },
   "file_extension": ".py",
   "mimetype": "text/x-python",
   "name": "python",
   "nbconvert_exporter": "python",
   "pygments_lexer": "ipython3",
   "version": "3.10.4"
  }
 },
 "nbformat": 4,
 "nbformat_minor": 2
}
